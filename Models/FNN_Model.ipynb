{
  "nbformat": 4,
  "nbformat_minor": 0,
  "metadata": {
    "colab": {
      "provenance": []
    },
    "kernelspec": {
      "name": "python3",
      "display_name": "Python 3"
    },
    "language_info": {
      "name": "python"
    }
  },
  "cells": [
    {
      "cell_type": "markdown",
      "source": [
        "# **FNN Model**"
      ],
      "metadata": {
        "id": "HEdTb2ePd6Tf"
      }
    },
    {
      "cell_type": "markdown",
      "source": [
        "# Importing libraries"
      ],
      "metadata": {
        "id": "XZrL0SH-eDeB"
      }
    },
    {
      "cell_type": "code",
      "execution_count": 1,
      "metadata": {
        "id": "WHjyAO3Od1Hg"
      },
      "outputs": [],
      "source": [
        "import tensorflow as tf\n",
        "from tensorflow.keras.models import Sequential\n",
        "from tensorflow.keras.layers import Flatten, Dense\n",
        "import matplotlib.pyplot as plt"
      ]
    },
    {
      "cell_type": "markdown",
      "source": [
        "# Data Preparation"
      ],
      "metadata": {
        "id": "kGbUGC41eYX3"
      }
    },
    {
      "cell_type": "code",
      "source": [
        "# Load the MNIST dataset. It's pre-split into training and testing sets.\n",
        "(train_images, train_labels), (test_images, test_labels) = tf.keras.datasets.mnist.load_data()\n",
        "\n",
        "# Normalize the pixel values from 0-255 to a range of 0-1.\n",
        "# This helps the model train faster and more effectively.\n",
        "train_images, test_images = train_images / 255.0, test_images / 255.0\n",
        "\n",
        "print(\"Shape of training images:\", train_images.shape)\n",
        "print(\"Shape of test images:\", test_images.shape)"
      ],
      "metadata": {
        "colab": {
          "base_uri": "https://localhost:8080/"
        },
        "id": "7TO_Ow05eXqS",
        "outputId": "4a273899-c873-40eb-db12-56754654362c"
      },
      "execution_count": 2,
      "outputs": [
        {
          "output_type": "stream",
          "name": "stdout",
          "text": [
            "Downloading data from https://storage.googleapis.com/tensorflow/tf-keras-datasets/mnist.npz\n",
            "\u001b[1m11490434/11490434\u001b[0m \u001b[32m━━━━━━━━━━━━━━━━━━━━\u001b[0m\u001b[37m\u001b[0m \u001b[1m0s\u001b[0m 0us/step\n",
            "Shape of training images: (60000, 28, 28)\n",
            "Shape of test images: (10000, 28, 28)\n"
          ]
        }
      ]
    },
    {
      "cell_type": "markdown",
      "source": [
        "# Build the FNN Model"
      ],
      "metadata": {
        "id": "3NFAn9w0ezK2"
      }
    },
    {
      "cell_type": "code",
      "source": [
        "def create_fnn_model():\n",
        "    # Use the Sequential API to build a model layer by layer.\n",
        "    model = Sequential()\n",
        "\n",
        "    # The Flatten layer transforms the 2D image data (28x28) into a 1D array (784).\n",
        "    model.add(Flatten(input_shape=(28, 28)))\n",
        "\n",
        "    # A fully connected hidden layer with 128 neurons and a ReLU activation function.\n",
        "    model.add(Dense(128, activation='relu'))\n",
        "\n",
        "    # The final output layer. It has 10 neurons, one for each digit (0-9).\n",
        "    # The 'softmax' activation gives a probability distribution over the 10 classes.\n",
        "    model.add(Dense(10, activation='softmax'))\n",
        "\n",
        "    return model"
      ],
      "metadata": {
        "id": "QYYEG2kKev1U"
      },
      "execution_count": 3,
      "outputs": []
    },
    {
      "cell_type": "markdown",
      "source": [
        "# Compile and Train the Model"
      ],
      "metadata": {
        "id": "ozcBKw_8fDTb"
      }
    },
    {
      "cell_type": "code",
      "source": [
        "# Create an instance of the model.\n",
        "fnn_model = create_fnn_model()\n",
        "\n",
        "# Compile the model with an optimizer, a loss function, and metrics to monitor.\n",
        "# Adam is a good all-purpose optimizer.\n",
        "# 'sparse_categorical_crossentropy' is the standard loss for integer-based classification labels.\n",
        "fnn_model.compile(optimizer='adam',\n",
        "                  loss='sparse_categorical_crossentropy',\n",
        "                  metrics=['accuracy'])\n",
        "\n",
        "# Train the model on the training data.\n",
        "# 'epochs' is the number of times the model will see the entire dataset.\n",
        "history = fnn_model.fit(train_images, train_labels, epochs=5)"
      ],
      "metadata": {
        "colab": {
          "base_uri": "https://localhost:8080/"
        },
        "id": "Xdoze2kwe3sJ",
        "outputId": "b1a7862a-61f0-4af5-df37-7abd88e652fd"
      },
      "execution_count": 4,
      "outputs": [
        {
          "output_type": "stream",
          "name": "stderr",
          "text": [
            "/usr/local/lib/python3.12/dist-packages/keras/src/layers/reshaping/flatten.py:37: UserWarning: Do not pass an `input_shape`/`input_dim` argument to a layer. When using Sequential models, prefer using an `Input(shape)` object as the first layer in the model instead.\n",
            "  super().__init__(**kwargs)\n"
          ]
        },
        {
          "output_type": "stream",
          "name": "stdout",
          "text": [
            "Epoch 1/5\n",
            "\u001b[1m1875/1875\u001b[0m \u001b[32m━━━━━━━━━━━━━━━━━━━━\u001b[0m\u001b[37m\u001b[0m \u001b[1m8s\u001b[0m 4ms/step - accuracy: 0.8753 - loss: 0.4361\n",
            "Epoch 2/5\n",
            "\u001b[1m1875/1875\u001b[0m \u001b[32m━━━━━━━━━━━━━━━━━━━━\u001b[0m\u001b[37m\u001b[0m \u001b[1m10s\u001b[0m 4ms/step - accuracy: 0.9631 - loss: 0.1252\n",
            "Epoch 3/5\n",
            "\u001b[1m1875/1875\u001b[0m \u001b[32m━━━━━━━━━━━━━━━━━━━━\u001b[0m\u001b[37m\u001b[0m \u001b[1m9s\u001b[0m 3ms/step - accuracy: 0.9775 - loss: 0.0793\n",
            "Epoch 4/5\n",
            "\u001b[1m1875/1875\u001b[0m \u001b[32m━━━━━━━━━━━━━━━━━━━━\u001b[0m\u001b[37m\u001b[0m \u001b[1m10s\u001b[0m 3ms/step - accuracy: 0.9816 - loss: 0.0596\n",
            "Epoch 5/5\n",
            "\u001b[1m1875/1875\u001b[0m \u001b[32m━━━━━━━━━━━━━━━━━━━━\u001b[0m\u001b[37m\u001b[0m \u001b[1m7s\u001b[0m 4ms/step - accuracy: 0.9867 - loss: 0.0431\n"
          ]
        }
      ]
    },
    {
      "cell_type": "markdown",
      "source": [
        "#  Evaluate the Model"
      ],
      "metadata": {
        "id": "CSBe_VW2fKbw"
      }
    },
    {
      "cell_type": "code",
      "source": [
        "# Evaluate the model's performance on the test set.\n",
        "test_loss, test_acc = fnn_model.evaluate(test_images, test_labels, verbose=2)\n",
        "\n",
        "print(f\"\\nTest accuracy: {test_acc:.4f}\")"
      ],
      "metadata": {
        "colab": {
          "base_uri": "https://localhost:8080/"
        },
        "id": "GN_msQ2BfG0f",
        "outputId": "97d1a465-458a-41bf-bbac-6a9bb60934b3"
      },
      "execution_count": 5,
      "outputs": [
        {
          "output_type": "stream",
          "name": "stdout",
          "text": [
            "313/313 - 1s - 3ms/step - accuracy: 0.9754 - loss: 0.0733\n",
            "\n",
            "Test accuracy: 0.9754\n"
          ]
        }
      ]
    },
    {
      "cell_type": "code",
      "source": [],
      "metadata": {
        "id": "QHMWdrMZfT_W"
      },
      "execution_count": null,
      "outputs": []
    }
  ]
}